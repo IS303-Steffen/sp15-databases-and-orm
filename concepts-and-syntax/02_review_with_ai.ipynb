{
 "cells": [
  {
   "cell_type": "markdown",
   "id": "e2765e7c",
   "metadata": {},
   "source": [
    "\n",
    "# Review with AI: Databases and ORM (Peewee)\n",
    "\n",
    "Use this notebook to review your understanding of how databases work and how to use Peewee ORM to interact with them in Python.\n",
    "\n",
    "### How to use this notebook:\n",
    "- **Copy and paste** the prompts and questions into your preferred AI tool (such as ChatGPT or Copilot).\n",
    "- **Check your understanding** by explaining concepts in your own words and having AI correct or clarify anything you misunderstood.\n",
    "- **Generate a custom practice problem** using the prompt below and try solving it before asking for help.\n"
   ]
  },
  {
   "cell_type": "markdown",
   "id": "38723701",
   "metadata": {},
   "source": [
    "\n",
    "## AI Setup Prompt\n",
    "\n",
    "Paste this into your AI tool before asking questions:\n",
    "\n",
    "```\n",
    "I am a beginner in an introductory Python programming course. When I ask questions or describe a concept, please respond as my tutor by explaining in simple, easy-to-understand language. Correct any mistakes I make and help clarify misconceptions. You can use examples or metaphors to help explain concepts when needed. Let me know if my understanding is correct or where I might be going wrong.\n",
    "```\n"
   ]
  },
  {
   "cell_type": "markdown",
   "id": "71bf4e6d",
   "metadata": {},
   "source": [
    "\n",
    "## Questions to Review Concepts\n",
    "\n",
    "Ask your AI tutor these questions to reinforce your understanding of databases and Peewee ORM:\n",
    "\n",
    "- What’s the difference between an ORM and writing raw SQL?\n",
    "- Why do we use primary keys and what happens if we don’t have one?\n",
    "- Can you give me an example of how foreign keys work using real-world objects?\n",
    "- How does Peewee compare to other ORMs like SQLAlchemy or Django’s ORM?\n",
    "- What are some common errors beginners make when working with databases or Peewee?\n",
    "- What does it mean when we say a database is \"relational\"?\n",
    "- How do I reset or delete all data in a Peewee table during testing?\n",
    "- When would it be better to use raw SQL instead of an ORM?\n"
   ]
  },
  {
   "cell_type": "markdown",
   "id": "107a72b9",
   "metadata": {},
   "source": [
    "\n",
    "## Check Your Understanding\n",
    "\n",
    "Try explaining the following ideas to AI in your own words, and ask it to help you revise if your understanding is off:\n",
    "\n",
    "- The difference between a primary key and a foreign key\n",
    "- How a table in a database relates to a Python class in Peewee\n",
    "- What CRUD stands for and what each operation means\n",
    "- How using an ORM like Peewee changes how we interact with databases compared to using SQL directly\n",
    "- How a foreign key connects two tables using an example (like users and orders)\n",
    "- The basic steps to create and use a Peewee model\n"
   ]
  },
  {
   "cell_type": "markdown",
   "id": "d4ca3b26",
   "metadata": {},
   "source": [
    "\n",
    "## Generate Your Own Practice Question\n",
    "\n",
    "Use the following prompt to generate a Peewee practice problem with AI. Try solving it first before asking for help.\n",
    "\n",
    "```\n",
    "I am a beginning python student in an intro course that is learning coding for\n",
    "the first time. I want you to create a practice problem for me on using peewee to\n",
    "create a very simple CRUD app with a SQLite database. So far, I've learned how\n",
    "to create variables, getting inputs, some popular built-in functions, if statements,\n",
    "some basic for and while loops, lists, dictionaries, writing custom functions,\n",
    "exception handling, making basic objects with class/instance variables and\n",
    "methods, as well as some other OOP principles like inheritance. The problem you\n",
    "make doesn't have to use all those things (in fact, I'd prefer that it doesn't just so\n",
    "it isn't too hard), I just want to give you context on where in the course I'm at. I\n",
    "want you to give me a problem so I can practice using peewee orm. Give me the\n",
    "problem, but don't give me the solution. I will paste in the code afterwards and\n",
    "you should let me know if I did it right.\n",
    "```\n"
   ]
  }
 ],
 "metadata": {
  "language_info": {
   "name": "python"
  }
 },
 "nbformat": 4,
 "nbformat_minor": 5
}

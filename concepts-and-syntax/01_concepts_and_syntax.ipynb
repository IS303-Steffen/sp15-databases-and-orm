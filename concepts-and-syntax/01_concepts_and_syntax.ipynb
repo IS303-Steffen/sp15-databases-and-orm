{
 "cells": [
  {
   "cell_type": "markdown",
   "id": "c4babedf",
   "metadata": {},
   "source": [
    "\n",
    "# Syntax & Concepts: Databases and ORM (Peewee)\n",
    "\n",
    "### Before Class:\n",
    "\n",
    "1. **Read this notebook and attempt each \"You Try\" section.**\n",
    "    - Need help? Check the AI tips or your textbook.\n",
    "\n",
    "2. **Complete at least one practice problem from this chapter.**\n",
    "    - Problems are ordered from easiest to hardest.\n",
    "    - Stuck? Copy and paste the instructions and AI prompt into your preferred AI service for guided help.\n",
    "\n",
    "3. **Submit your attempted practice problem code in the \"Class Prep Report\" on Learning Suite for credit.**\n",
    "\n",
    "#### Need more explanation? Copy and paste this AI prompt along with any code you have questions about:\n",
    "(Double-click the text below, then copy and paste it into your AI service.)\n",
    "\n",
    "```\n",
    "I am new to Python and just starting to learn coding. I need simple, clear explanations. When I ask a question or show my code, act like my personal tutor: correct mistakes gently, clarify misconceptions, and use easy-to-follow language. Feel free to use examples or metaphors to help me understand. Let me know when I'm doing well or what I need to adjust.\n",
    "```\n"
   ]
  },
  {
   "cell_type": "markdown",
   "id": "854f1f06",
   "metadata": {},
   "source": [
    "\n",
    "### Chapter Summary\n",
    "\n",
    "This chapter introduces databases and Object Relational Mapping (ORM), specifically using the **Peewee** library to perform CRUD operations with SQLite.\n",
    "\n",
    "ORM allows you to work with a database using Python classes instead of raw SQL code.\n",
    "\n",
    "Key concepts include:\n",
    "- Connecting to a database\n",
    "- Defining models (which represent tables)\n",
    "- Performing **CRUD** operations: Create, Read, Update, and Delete\n"
   ]
  },
  {
   "cell_type": "markdown",
   "id": "af699094",
   "metadata": {},
   "source": [
    "## 1: Connect to SQLite and Define a Model"
   ]
  },
  {
   "cell_type": "code",
   "execution_count": null,
   "id": "9e19e482",
   "metadata": {},
   "outputs": [],
   "source": [
    "from peewee import *\n",
    "\n",
    "db = SqliteDatabase(\"students.db\")\n",
    "\n",
    "class Student(Model):\n",
    "    name = CharField()\n",
    "    grade = IntegerField()\n",
    "\n",
    "    class Meta:\n",
    "        database = db\n",
    "\n",
    "db.connect()\n",
    "db.create_tables([Student])"
   ]
  },
  {
   "cell_type": "markdown",
   "id": "9e2f27b2",
   "metadata": {},
   "source": [
    "### 1.p: You Try\n",
    "Connect to a database called `books.db` and define a model `Book` with fields: `title` (CharField) and `pages` (IntegerField)."
   ]
  },
  {
   "cell_type": "code",
   "execution_count": null,
   "id": "2920e43c",
   "metadata": {},
   "outputs": [],
   "source": [
    "# Your code here\n"
   ]
  },
  {
   "cell_type": "markdown",
   "id": "b27f769e",
   "metadata": {},
   "source": [
    "## 2: Create Records"
   ]
  },
  {
   "cell_type": "code",
   "execution_count": null,
   "id": "d6153723",
   "metadata": {},
   "outputs": [],
   "source": [
    "s1 = Student.create(name=\"Alice\", grade=90)\n",
    "s2 = Student.create(name=\"Bob\", grade=85)"
   ]
  },
  {
   "cell_type": "markdown",
   "id": "cce4cd62",
   "metadata": {},
   "source": [
    "### 2.p: You Try\n",
    "Create two `Book` records in your database with example titles and page counts."
   ]
  },
  {
   "cell_type": "code",
   "execution_count": null,
   "id": "a99c983f",
   "metadata": {},
   "outputs": [],
   "source": [
    "# Your code here\n"
   ]
  },
  {
   "cell_type": "markdown",
   "id": "d0935df4",
   "metadata": {},
   "source": [
    "## 3: Read Records"
   ]
  },
  {
   "cell_type": "code",
   "execution_count": null,
   "id": "8d434c1b",
   "metadata": {},
   "outputs": [],
   "source": [
    "for student in Student.select():\n",
    "    print(student.name, student.grade)"
   ]
  },
  {
   "cell_type": "markdown",
   "id": "c5078671",
   "metadata": {},
   "source": [
    "### 3.p: You Try\n",
    "Print all the books in your database, including their title and page count."
   ]
  },
  {
   "cell_type": "code",
   "execution_count": null,
   "id": "6e01cb27",
   "metadata": {},
   "outputs": [],
   "source": [
    "# Your code here\n"
   ]
  },
  {
   "cell_type": "markdown",
   "id": "2a6442c9",
   "metadata": {},
   "source": [
    "## 4: Update Records"
   ]
  },
  {
   "cell_type": "code",
   "execution_count": null,
   "id": "be793228",
   "metadata": {},
   "outputs": [],
   "source": [
    "s1.grade = 95\n",
    "s1.save()"
   ]
  },
  {
   "cell_type": "markdown",
   "id": "d35c6fac",
   "metadata": {},
   "source": [
    "### 4.p: You Try\n",
    "Change the page count of one of your books and save the update."
   ]
  },
  {
   "cell_type": "code",
   "execution_count": null,
   "id": "1e6fd60f",
   "metadata": {},
   "outputs": [],
   "source": [
    "# Your code here\n"
   ]
  },
  {
   "cell_type": "markdown",
   "id": "c64d7e2b",
   "metadata": {},
   "source": [
    "## 5: Delete Records"
   ]
  },
  {
   "cell_type": "code",
   "execution_count": null,
   "id": "4979b8fe",
   "metadata": {},
   "outputs": [],
   "source": [
    "s2.delete_instance()"
   ]
  },
  {
   "cell_type": "markdown",
   "id": "7a95aeba",
   "metadata": {},
   "source": [
    "### 5.p: You Try\n",
    "Delete one of your `Book` records from the database."
   ]
  },
  {
   "cell_type": "code",
   "execution_count": null,
   "id": "00cfbc4e",
   "metadata": {},
   "outputs": [],
   "source": [
    "# Your code here\n"
   ]
  },
  {
   "cell_type": "markdown",
   "id": "7af0fcb8",
   "metadata": {},
   "source": [
    "\n",
    "## Want to Learn More?\n",
    "\n",
    "If you'd like extra help or more details, you can:\n",
    "- **Ask AI**: Use the suggested questions in the `review_with_ai` file.\n",
    "- **Read your textbook**: Check the reading guide on Learning Suite beforehand.\n",
    "- **Review class practice files**: They contain more detailed examples and explanations, available on Learning Suite.\n"
   ]
  }
 ],
 "metadata": {},
 "nbformat": 4,
 "nbformat_minor": 5
}
